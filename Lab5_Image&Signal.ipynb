{
  "nbformat": 4,
  "nbformat_minor": 0,
  "metadata": {
    "colab": {
      "provenance": []
    },
    "kernelspec": {
      "name": "python3",
      "display_name": "Python 3"
    },
    "language_info": {
      "name": "python"
    }
  },
  "cells": [
    {
      "cell_type": "code",
      "execution_count": null,
      "metadata": {
        "colab": {
          "base_uri": "https://localhost:8080/"
        },
        "id": "hb3-5PANchwF",
        "outputId": "ea2e9b0a-ccb5-4982-ea3c-14980fb72f1e"
      },
      "outputs": [
        {
          "output_type": "stream",
          "name": "stdout",
          "text": [
            "DCT coefficients: [ 5.00000000e+00 -2.23044250e+00 -8.88178420e-16 -1.58512668e-01]\n"
          ]
        }
      ],
      "source": [
        "import numpy as np\n",
        "import matplotlib.pyplot as plt\n",
        "\n",
        "def dct_transform(f):\n",
        "    \"\"\"\n",
        "    @brief Computes the Discrete Cosine Transform (DCT) of a given signal.\n",
        "\n",
        "    The function calculates the DCT coefficients for a discrete signal\n",
        "    using the type-II DCT formula. It is commonly used in signal processing\n",
        "    and data compression tasks.\n",
        "\n",
        "    @param f A list or numpy array representing the input discrete signal.\n",
        "             It contains the signal values sampled at regular intervals.\n",
        "\n",
        "    @return A numpy array containing the DCT coefficients for the input signal.\n",
        "    \"\"\"\n",
        "\n",
        "    L = len(f)\n",
        "    a_k = np.zeros(L)  # Array to store DCT coefficients\n",
        "    for k in range(L):\n",
        "        # Definition of λ_k\n",
        "        if k == 0:\n",
        "            lambda_k = 1 / np.sqrt(2)\n",
        "        else:\n",
        "            lambda_k = 1\n",
        "        # Compute the coefficient a_k\n",
        "        for n in range(L):\n",
        "            a_k[k] += lambda_k * np.sqrt(2 / L) * f[n] * np.cos((np.pi * k / L) * (n + 0.5))\n",
        "    return a_k\n",
        "\n",
        "# Example usage:\n",
        "f = [1, 2, 3, 4]  # Example of a discrete signal\n",
        "coefficients = dct_transform(f)\n",
        "print(\"DCT coefficients:\", coefficients)"
      ]
    },
    {
      "cell_type": "code",
      "source": [
        "import numpy as np\n",
        "\n",
        "def DCT(f):\n",
        "    \"\"\"\n",
        "    Computes the 2D Discrete Cosine Transform (DCT) of a given input matrix.\n",
        "\n",
        "    The function calculates the DCT coefficients for a 2D input signal `f` using the type-II DCT formula.\n",
        "    This transform is widely used in image and signal processing, particularly for compression.\n",
        "\n",
        "    Args:\n",
        "        f (numpy.ndarray): A 2D numpy array representing the input signal or image.\n",
        "\n",
        "    Returns:\n",
        "        numpy.ndarray: A 2D numpy array of the same shape as `f` containing the DCT coefficients.\n",
        "    \"\"\"\n",
        "    ak = np.zeros_like(f)\n",
        "    L = len(f)\n",
        "\n",
        "    for k1 in range(L):\n",
        "        lambda_k1 = 1 / np.sqrt(2) if k1 == 0 else 1\n",
        "        for k2 in range(L):\n",
        "            lambda_k2 = 1 / np.sqrt(2) if k2 == 0 else 1\n",
        "            for n1 in range(L):\n",
        "                for n2 in range(L):\n",
        "                    ak[k1, k2] += (lambda_k1 * lambda_k2 * 2 / L *\n",
        "                                   f[n1, n2] *\n",
        "                                   np.cos((np.pi * k1 / L) * (n1 + 0.5)) *\n",
        "                                   np.cos((np.pi * k2 / L) * (n2 + 0.5)))\n",
        "    return ak\n"
      ],
      "metadata": {
        "id": "hyaw1njMcvAi"
      },
      "execution_count": null,
      "outputs": []
    },
    {
      "cell_type": "code",
      "source": [
        "import numpy as np\n",
        "\n",
        "def quan_matrix(q, block_size):\n",
        "    \"\"\"\n",
        "    Generates a quantization matrix for a given quantization parameter and block size.\n",
        "\n",
        "    Args:\n",
        "        q (float): The quantization parameter that controls the scaling of the matrix.\n",
        "                   A higher value increases the quantization level.\n",
        "        block_size (int): The size of the quantization matrix (e.g., 8 for an 8x8 block).\n",
        "\n",
        "    Returns:\n",
        "        numpy.ndarray: A 2D numpy array of shape `(block_size, block_size)`\n",
        "                       representing the quantization matrix.\n",
        "    \"\"\"\n",
        "    Q = np.zeros((block_size, block_size))\n",
        "    for i in range(block_size):\n",
        "        for j in range(block_size):\n",
        "            Q[i, j] = 1 + q * (1 + i + j)\n",
        "    return Q\n"
      ],
      "metadata": {
        "id": "RoSKX4bpltSY"
      },
      "execution_count": null,
      "outputs": []
    },
    {
      "cell_type": "code",
      "source": [
        "# Processing of image\n",
        "image = plt.imread('cameraman.png')  # Load the image\n",
        "image_array = np.array(image)  # Convert the image to a NumPy array\n",
        "\n",
        "# Block size\n",
        "block_size = 8\n",
        "\n",
        "# Create a list to store all the blocks\n",
        "blocks = []\n",
        "\n",
        "# Split the image into 8x8 blocks\n",
        "for i in range(0, 256, block_size):\n",
        "    for j in range(0, 256, block_size):\n",
        "        block = image_array[i:i + block_size, j:j + block_size]\n",
        "        blocks.append(block)\n",
        "\n",
        "blocks_array = np.array(blocks)\n",
        "\n",
        "# Performing the DCT on each block\n",
        "blocks_array_DCT = np.zeros(np.shape(blocks_array))\n",
        "for i in range(blocks_array.shape[0]):\n",
        "    blocks_array_DCT[i] = DCT(blocks_array[i])\n",
        "\n",
        "# Define the maximum range of the quantization parameter q\n",
        "ax_len = 150\n",
        "proportion_of_zeros = np.zeros(ax_len)\n",
        "\n",
        "# Define the precision threshold below which values are considered zero\n",
        "precision = 10**(-5)\n",
        "\n",
        "blocks_array_DCT_quan = np.zeros(np.shape(blocks_array))\n",
        "\n",
        "# Loop through different quantization levels (q values)\n",
        "for q in range(0, ax_len):\n",
        "    # Generate the quantization matrix for the current q value\n",
        "    Q = quan_matrix(q, block_size)\n",
        "\n",
        "    for i in range(blocks_array_DCT.shape[0]):\n",
        "        # Quantize the DCT coefficients by dividing by the quantization matrix Q\n",
        "        blocks_array_DCT_quan[i] = blocks_array_DCT[i] / Q\n",
        "\n",
        "    # Calculate the proportion of coefficients that are effectively zero (less than precision)\n",
        "    proportion_of_zeros[q] = np.sum(blocks_array_DCT_quan[i] < precision) / (block_size**2)\n",
        "\n",
        "plt.plot(range(0, ax_len), proportion_of_zeros)\n",
        "plt.title(\"Precision = 10**(-5)\")\n",
        "plt.xlim(0, ax_len)\n",
        "plt.xlabel(\"Parameter q\")\n",
        "plt.ylabel(\"Proportion of zeros\")\n",
        "plt.grid()\n",
        "plt.show()"
      ],
      "metadata": {
        "colab": {
          "base_uri": "https://localhost:8080/",
          "height": 472
        },
        "id": "Bo1uK4J6a2lU",
        "outputId": "3b905f76-5642-44ac-9188-b734293612fa"
      },
      "execution_count": null,
      "outputs": [
        {
          "output_type": "display_data",
          "data": {
            "text/plain": [
              "<Figure size 640x480 with 1 Axes>"
            ],
            "image/png": "[encoded data removed]"
          },
          "metadata": {}
        }
      ]
    }
  ]
}